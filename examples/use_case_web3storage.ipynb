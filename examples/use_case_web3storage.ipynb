{
 "cells": [
  {
   "attachments": {},
   "cell_type": "markdown",
   "metadata": {},
   "source": [
    "# Step 1: configuration"
   ]
  },
  {
   "attachments": {},
   "cell_type": "markdown",
   "metadata": {},
   "source": [
    "Input your walletPrivateKey here:"
   ]
  },
  {
   "cell_type": "code",
   "execution_count": 1,
   "metadata": {},
   "outputs": [
    {
     "name": "stdout",
     "output_type": "stream",
     "text": [
      "check env.walletPrivateKey: 2a776\n",
      "check env.mindLakeAppKey: Kyunq\n",
      "check env.MINDLAKE_GATEWAY: https://sdk.mindnetwork.xyz/node\n",
      "check env.web3StorageToken: eyJhb\n"
     ]
    }
   ],
   "source": [
    "# make sure you configure mindlakesdk, please check env.py in the same folder\n",
    "# please familar these configure, and you can read https://github.com/mind-network/mind-lake-sdk-python \n",
    "# You can get web3StorageToken from https://web3.storage/\n",
    "import env\n",
    "\n",
    "print(\"check env.walletPrivateKey:\", env.walletPrivateKey[0:5])\n",
    "print(\"check env.mindLakeAppKey:\", env.mindLakeAppKey[0:5])\n",
    "print(\"check env.MINDLAKE_GATEWAY:\", env.MINDLAKE_GATEWAY)\n",
    "print(\"check env.web3StorageToken:\", env.web3StorageToken[0:5])"
   ]
  },
  {
   "attachments": {},
   "cell_type": "markdown",
   "metadata": {},
   "source": [
    "Install depedancy and source code"
   ]
  },
  {
   "cell_type": "code",
   "execution_count": 2,
   "metadata": {},
   "outputs": [],
   "source": [
    "# please \"pip install mindlakesdk\" if not installed\n",
    "import mindlakesdk\n",
    "\n",
    "# please \"pip install minddatapack\" if not installed, or git clone the source code\n",
    "from minddatapack import DataPack\n",
    "\n",
    "# please \"pip install pandas\" if not installed, it is used to display structure content in the notebook\n",
    "import pandas"
   ]
  },
  {
   "cell_type": "code",
   "execution_count": 3,
   "metadata": {},
   "outputs": [],
   "source": [
    "# check if example_data.csv file exists in the same folder, this demo will start to load this csv file."
   ]
  },
  {
   "attachments": {},
   "cell_type": "markdown",
   "metadata": {},
   "source": [
    "## Step 2. Local CSV -> MindLake\n",
    "- Load data from a local CSV file without the metadata file, by defining each column manually.\n",
    "- You can also load from a local backup into MindLake once you are familar, then no need to define each column. "
   ]
  },
  {
   "cell_type": "code",
   "execution_count": 4,
   "metadata": {},
   "outputs": [
    {
     "data": {
      "text/html": [
       "<div>\n",
       "<style scoped>\n",
       "    .dataframe tbody tr th:only-of-type {\n",
       "        vertical-align: middle;\n",
       "    }\n",
       "\n",
       "    .dataframe tbody tr th {\n",
       "        vertical-align: top;\n",
       "    }\n",
       "\n",
       "    .dataframe thead th {\n",
       "        text-align: right;\n",
       "    }\n",
       "</style>\n",
       "<table border=\"1\" class=\"dataframe\">\n",
       "  <thead>\n",
       "    <tr style=\"text-align: right;\">\n",
       "      <th></th>\n",
       "      <th>uid</th>\n",
       "      <th>wallet_address</th>\n",
       "      <th>register_date</th>\n",
       "    </tr>\n",
       "  </thead>\n",
       "  <tbody>\n",
       "    <tr>\n",
       "      <th>0</th>\n",
       "      <td>123</td>\n",
       "      <td>0x79Be957bf7e3003aFd0e78f04Bacbc93D3ef2fB7</td>\n",
       "      <td>2023-07-15 02:25:32.392441</td>\n",
       "    </tr>\n",
       "    <tr>\n",
       "      <th>1</th>\n",
       "      <td>124</td>\n",
       "      <td>0x79Be957bf7e3003aFd0e78f04Bacbc93D3ef2fB7</td>\n",
       "      <td>2023-07-15 02:25:32.392441</td>\n",
       "    </tr>\n",
       "    <tr>\n",
       "      <th>2</th>\n",
       "      <td>125</td>\n",
       "      <td>0x79Be957bf7e3003aFd0e78f04Bacbc93D3ef2fB7</td>\n",
       "      <td>2023-07-15 02:25:32.392441</td>\n",
       "    </tr>\n",
       "  </tbody>\n",
       "</table>\n",
       "</div>"
      ],
      "text/plain": [
       "   uid                              wallet_address               register_date\n",
       "0  123  0x79Be957bf7e3003aFd0e78f04Bacbc93D3ef2fB7  2023-07-15 02:25:32.392441\n",
       "1  124  0x79Be957bf7e3003aFd0e78f04Bacbc93D3ef2fB7  2023-07-15 02:25:32.392441\n",
       "2  125  0x79Be957bf7e3003aFd0e78f04Bacbc93D3ef2fB7  2023-07-15 02:25:32.392441"
      ]
     },
     "execution_count": 4,
     "metadata": {},
     "output_type": "execute_result"
    }
   ],
   "source": [
    "fn_local_csv = './example_data.csv'\n",
    "\n",
    "# preview local csv\n",
    "df = pandas.read_csv(fn_local_csv)\n",
    "df"
   ]
  },
  {
   "cell_type": "code",
   "execution_count": 5,
   "metadata": {},
   "outputs": [
    {
     "data": {
      "text/html": [
       "<div>\n",
       "<style scoped>\n",
       "    .dataframe tbody tr th:only-of-type {\n",
       "        vertical-align: middle;\n",
       "    }\n",
       "\n",
       "    .dataframe tbody tr th {\n",
       "        vertical-align: top;\n",
       "    }\n",
       "\n",
       "    .dataframe thead th {\n",
       "        text-align: right;\n",
       "    }\n",
       "</style>\n",
       "<table border=\"1\" class=\"dataframe\">\n",
       "  <thead>\n",
       "    <tr style=\"text-align: right;\">\n",
       "      <th></th>\n",
       "      <th>0</th>\n",
       "      <th>1</th>\n",
       "      <th>2</th>\n",
       "    </tr>\n",
       "  </thead>\n",
       "  <tbody>\n",
       "    <tr>\n",
       "      <th>0</th>\n",
       "      <td>123</td>\n",
       "      <td>0x79Be957bf7e3003aFd0e78f04Bacbc93D3ef2fB7</td>\n",
       "      <td>2023-07-15 02:25:32.392441</td>\n",
       "    </tr>\n",
       "    <tr>\n",
       "      <th>1</th>\n",
       "      <td>124</td>\n",
       "      <td>0x79Be957bf7e3003aFd0e78f04Bacbc93D3ef2fB7</td>\n",
       "      <td>2023-07-15 02:25:32.392441</td>\n",
       "    </tr>\n",
       "    <tr>\n",
       "      <th>2</th>\n",
       "      <td>125</td>\n",
       "      <td>0x79Be957bf7e3003aFd0e78f04Bacbc93D3ef2fB7</td>\n",
       "      <td>2023-07-15 02:25:32.392441</td>\n",
       "    </tr>\n",
       "  </tbody>\n",
       "</table>\n",
       "</div>"
      ],
      "text/plain": [
       "     0                                           1                          2\n",
       "0  123  0x79Be957bf7e3003aFd0e78f04Bacbc93D3ef2fB7 2023-07-15 02:25:32.392441\n",
       "1  124  0x79Be957bf7e3003aFd0e78f04Bacbc93D3ef2fB7 2023-07-15 02:25:32.392441\n",
       "2  125  0x79Be957bf7e3003aFd0e78f04Bacbc93D3ef2fB7 2023-07-15 02:25:32.392441"
      ]
     },
     "execution_count": 5,
     "metadata": {},
     "output_type": "execute_result"
    }
   ],
   "source": [
    "dataPack1 = DataPack(env.walletPrivateKey)\n",
    "localFile1 = DataPack.LocalFileConnector(columns=[\n",
    "        DataPack.Column('uid', DataPack.DataType.int4, False),\n",
    "        DataPack.Column('wallet_address', DataPack.DataType.text, True),\n",
    "        DataPack.Column('register_date', DataPack.DataType.timestamp, True)\n",
    "    ])\n",
    "result = dataPack1.loadFrom(localFile1, fn_local_csv)\n",
    "assert result, result.message\n",
    "df = pandas.DataFrame(dataPack1.data)\n",
    "df"
   ]
  },
  {
   "attachments": {},
   "cell_type": "markdown",
   "metadata": {},
   "source": [
    "- Save the data into a table in MindLake"
   ]
  },
  {
   "cell_type": "code",
   "execution_count": 6,
   "metadata": {},
   "outputs": [
    {
     "name": "stdout",
     "output_type": "stream",
     "text": [
      "dropTable result: Success\n",
      "a_new_table has been saved to MindLake.\n"
     ]
    }
   ],
   "source": [
    "mindlake = mindlakesdk.connect(env.walletPrivateKey, env.mindLakeAppKey, env.MINDLAKE_GATEWAY)\n",
    "assert mindlake, mindlake.message\n",
    "\n",
    "# drop the table if exists\n",
    "result = mindlake.datalake.dropTable('a_new_table')\n",
    "print(\"dropTable result:\", result.message)\n",
    "\n",
    "# upload from local csv into mindlake\n",
    "mindLakeConnector = DataPack.MindLakeConnector(mindlake)\n",
    "result = dataPack1.saveTo(mindLakeConnector, 'a_new_table')\n",
    "assert result, result.message\n",
    "print(\"a_new_table has been saved to MindLake.\")"
   ]
  },
  {
   "attachments": {},
   "cell_type": "markdown",
   "metadata": {},
   "source": [
    "you can also check this new downloaded table in https://scan.mindnetwork.xyz/account/myData"
   ]
  },
  {
   "attachments": {},
   "cell_type": "markdown",
   "metadata": {},
   "source": [
    "## Step 3. MindLake -> Web3Storage\n",
    "- Load data from a table in MindLake"
   ]
  },
  {
   "cell_type": "code",
   "execution_count": 7,
   "metadata": {},
   "outputs": [
    {
     "data": {
      "text/html": [
       "<div>\n",
       "<style scoped>\n",
       "    .dataframe tbody tr th:only-of-type {\n",
       "        vertical-align: middle;\n",
       "    }\n",
       "\n",
       "    .dataframe tbody tr th {\n",
       "        vertical-align: top;\n",
       "    }\n",
       "\n",
       "    .dataframe thead th {\n",
       "        text-align: right;\n",
       "    }\n",
       "</style>\n",
       "<table border=\"1\" class=\"dataframe\">\n",
       "  <thead>\n",
       "    <tr style=\"text-align: right;\">\n",
       "      <th></th>\n",
       "      <th>0</th>\n",
       "      <th>1</th>\n",
       "      <th>2</th>\n",
       "    </tr>\n",
       "  </thead>\n",
       "  <tbody>\n",
       "    <tr>\n",
       "      <th>0</th>\n",
       "      <td>123</td>\n",
       "      <td>0x79Be957bf7e3003aFd0e78f04Bacbc93D3ef2fB7</td>\n",
       "      <td>2023-07-15 02:25:32.392441</td>\n",
       "    </tr>\n",
       "    <tr>\n",
       "      <th>1</th>\n",
       "      <td>124</td>\n",
       "      <td>0x79Be957bf7e3003aFd0e78f04Bacbc93D3ef2fB7</td>\n",
       "      <td>2023-07-15 02:25:32.392441</td>\n",
       "    </tr>\n",
       "    <tr>\n",
       "      <th>2</th>\n",
       "      <td>125</td>\n",
       "      <td>0x79Be957bf7e3003aFd0e78f04Bacbc93D3ef2fB7</td>\n",
       "      <td>2023-07-15 02:25:32.392441</td>\n",
       "    </tr>\n",
       "  </tbody>\n",
       "</table>\n",
       "</div>"
      ],
      "text/plain": [
       "     0                                           1                          2\n",
       "0  123  0x79Be957bf7e3003aFd0e78f04Bacbc93D3ef2fB7 2023-07-15 02:25:32.392441\n",
       "1  124  0x79Be957bf7e3003aFd0e78f04Bacbc93D3ef2fB7 2023-07-15 02:25:32.392441\n",
       "2  125  0x79Be957bf7e3003aFd0e78f04Bacbc93D3ef2fB7 2023-07-15 02:25:32.392441"
      ]
     },
     "execution_count": 7,
     "metadata": {},
     "output_type": "execute_result"
    }
   ],
   "source": [
    "dataPack2 = DataPack(env.walletPrivateKey)\n",
    "# make sure if you complete Step 1, so \"a_new_table\" exists in mindlake\n",
    "result = dataPack2.loadFrom(mindLakeConnector, 'select * from \"a_new_table\"')\n",
    "assert result, result.message\n",
    "df = pandas.DataFrame(dataPack2.data)\n",
    "df"
   ]
  },
  {
   "attachments": {},
   "cell_type": "markdown",
   "metadata": {},
   "source": [
    "- Save the data into Web3Storage"
   ]
  },
  {
   "cell_type": "code",
   "execution_count": 8,
   "metadata": {},
   "outputs": [
    {
     "name": "stdout",
     "output_type": "stream",
     "text": [
      "test_table_encrypted.csv has been saved to Web3Storage.\n",
      "\n",
      "The IPFS CID is: bafkreigsgm7gmydxagcuo3w6jtnsm36kvdoiml3dtfjomy6ksioqe6d3n4 \n",
      "\n",
      "You can download the archive file from: https://w3s.link/ipfs/bafkreigsgm7gmydxagcuo3w6jtnsm36kvdoiml3dtfjomy6ksioqe6d3n4\n",
      "\n",
      "Here is storage info of the archive file:\n",
      "{\"_id\":\"315318962443259193\",\"type\":\"Upload\",\"name\":\"Upload at 2023-09-03T09:09:01.164Z\",\"created\":\"2023-09-03T09:09:01.164+00:00\",\"updated\":\"2023-09-03T09:09:01.164+00:00\",\"cid\":\"bafkreigsgm7gmydxagcuo3w6jtnsm36kvdoiml3dtfjomy6ksioqe6d3n4\",\"dagSize\":1626,\"pins\":[{\"status\":\"Pinned\",\"updated\":\"2023-09-03T09:09:01.164+00:00\",\"peerId\":\"bafzbeibhqavlasjc7dvbiopygwncnrtvjd2xmryk5laib7zyjor6kf3avm\",\"peerName\":\"elastic-ipfs\",\"region\":null}],\"deals\":[]}\n"
     ]
    }
   ],
   "source": [
    "web3Storage1 = DataPack.Web3StorageConnector(env.web3StorageToken)\n",
    "result = dataPack2.saveTo(web3Storage1, 'test_table_encrypted.csv')\n",
    "assert result, result.message\n",
    "print(\"test_table_encrypted.csv has been saved to Web3Storage.\\n\")\n",
    "ipfsCid = result.data\n",
    "print(\"The IPFS CID is:\", ipfsCid, '\\n')\n",
    "ipfs_file_url = \"https://w3s.link/ipfs/%s\"%ipfsCid\n",
    "ipfs_file_info_url = \"https://api.web3.storage/user/uploads/%s\"%ipfsCid\n",
    "print(f\"You can download the archive file from: {ipfs_file_url}\\n\")\n",
    "print(\"Here is storage info of the archive file:\")\n",
    "import requests\n",
    "headers = {\n",
    "    \"Authorization\": \"Bearer \" + env.web3StorageToken\n",
    "}\n",
    "content = requests.get(ipfs_file_info_url, headers=headers).text\n",
    "print(content)"
   ]
  },
  {
   "attachments": {},
   "cell_type": "markdown",
   "metadata": {},
   "source": [
    "## Step 4. Web3Storage -> Local File\n",
    "- Load data from Web3Storage and save to local file"
   ]
  },
  {
   "cell_type": "code",
   "execution_count": 9,
   "metadata": {},
   "outputs": [
    {
     "name": "stdout",
     "output_type": "stream",
     "text": [
      "You can see file on Web3Storage are encrypted, but datapack can decrypted it locally\n"
     ]
    },
    {
     "data": {
      "text/html": [
       "<div>\n",
       "<style scoped>\n",
       "    .dataframe tbody tr th:only-of-type {\n",
       "        vertical-align: middle;\n",
       "    }\n",
       "\n",
       "    .dataframe tbody tr th {\n",
       "        vertical-align: top;\n",
       "    }\n",
       "\n",
       "    .dataframe thead th {\n",
       "        text-align: right;\n",
       "    }\n",
       "</style>\n",
       "<table border=\"1\" class=\"dataframe\">\n",
       "  <thead>\n",
       "    <tr style=\"text-align: right;\">\n",
       "      <th></th>\n",
       "      <th>0</th>\n",
       "      <th>1</th>\n",
       "      <th>2</th>\n",
       "    </tr>\n",
       "  </thead>\n",
       "  <tbody>\n",
       "    <tr>\n",
       "      <th>0</th>\n",
       "      <td>123</td>\n",
       "      <td>0x79Be957bf7e3003aFd0e78f04Bacbc93D3ef2fB7</td>\n",
       "      <td>2023-07-15 02:25:32.392441</td>\n",
       "    </tr>\n",
       "    <tr>\n",
       "      <th>1</th>\n",
       "      <td>124</td>\n",
       "      <td>0x79Be957bf7e3003aFd0e78f04Bacbc93D3ef2fB7</td>\n",
       "      <td>2023-07-15 02:25:32.392441</td>\n",
       "    </tr>\n",
       "    <tr>\n",
       "      <th>2</th>\n",
       "      <td>125</td>\n",
       "      <td>0x79Be957bf7e3003aFd0e78f04Bacbc93D3ef2fB7</td>\n",
       "      <td>2023-07-15 02:25:32.392441</td>\n",
       "    </tr>\n",
       "  </tbody>\n",
       "</table>\n",
       "</div>"
      ],
      "text/plain": [
       "     0                                           1                          2\n",
       "0  123  0x79Be957bf7e3003aFd0e78f04Bacbc93D3ef2fB7 2023-07-15 02:25:32.392441\n",
       "1  124  0x79Be957bf7e3003aFd0e78f04Bacbc93D3ef2fB7 2023-07-15 02:25:32.392441\n",
       "2  125  0x79Be957bf7e3003aFd0e78f04Bacbc93D3ef2fB7 2023-07-15 02:25:32.392441"
      ]
     },
     "execution_count": 9,
     "metadata": {},
     "output_type": "execute_result"
    }
   ],
   "source": [
    "dataPack3 = DataPack(env.walletPrivateKey)\n",
    "web3Storage2 = DataPack.Web3StorageConnector()\n",
    "result = dataPack3.loadFrom(web3Storage2, ipfsCid)\n",
    "assert result, result.message\n",
    "print(\"You can see file on Web3Storage are encrypted, but datapack can decrypted it locally\")\n",
    "df = pandas.DataFrame(dataPack3.data)\n",
    "df"
   ]
  },
  {
   "attachments": {},
   "cell_type": "markdown",
   "metadata": {},
   "source": [
    "- Save the data into a local file with encryption"
   ]
  },
  {
   "cell_type": "code",
   "execution_count": 10,
   "metadata": {},
   "outputs": [
    {
     "name": "stdout",
     "output_type": "stream",
     "text": [
      "test_localtable_encrypted.csv has been saved to local file.\n"
     ]
    },
    {
     "data": {
      "text/html": [
       "<div>\n",
       "<style scoped>\n",
       "    .dataframe tbody tr th:only-of-type {\n",
       "        vertical-align: middle;\n",
       "    }\n",
       "\n",
       "    .dataframe tbody tr th {\n",
       "        vertical-align: top;\n",
       "    }\n",
       "\n",
       "    .dataframe thead th {\n",
       "        text-align: right;\n",
       "    }\n",
       "</style>\n",
       "<table border=\"1\" class=\"dataframe\">\n",
       "  <thead>\n",
       "    <tr style=\"text-align: right;\">\n",
       "      <th></th>\n",
       "      <th>uid</th>\n",
       "      <th>wallet_address</th>\n",
       "      <th>register_date</th>\n",
       "    </tr>\n",
       "  </thead>\n",
       "  <tbody>\n",
       "    <tr>\n",
       "      <th>0</th>\n",
       "      <td>123</td>\n",
       "      <td>\\xec58be677e5c22bac7ea266df234565fe56506aa0d5e...</td>\n",
       "      <td>\\x1ef6e317b5cbfe4568fc648dad1bb9e7e8e872005071...</td>\n",
       "    </tr>\n",
       "    <tr>\n",
       "      <th>1</th>\n",
       "      <td>124</td>\n",
       "      <td>\\xa55d391505fbb845d77990d3c415dbed2d758b7d3977...</td>\n",
       "      <td>\\xd460941b3d1cbb9bbd1014a02712b18a918b869af046...</td>\n",
       "    </tr>\n",
       "    <tr>\n",
       "      <th>2</th>\n",
       "      <td>125</td>\n",
       "      <td>\\xcc8e1cffefa3029ecb20518c098254aa421d8904f92a...</td>\n",
       "      <td>\\xe8d4aac12f92c75cd1589b028a7ae5f3e9c47c1259f6...</td>\n",
       "    </tr>\n",
       "  </tbody>\n",
       "</table>\n",
       "</div>"
      ],
      "text/plain": [
       "   uid                                     wallet_address  \\\n",
       "0  123  \\xec58be677e5c22bac7ea266df234565fe56506aa0d5e...   \n",
       "1  124  \\xa55d391505fbb845d77990d3c415dbed2d758b7d3977...   \n",
       "2  125  \\xcc8e1cffefa3029ecb20518c098254aa421d8904f92a...   \n",
       "\n",
       "                                       register_date  \n",
       "0  \\x1ef6e317b5cbfe4568fc648dad1bb9e7e8e872005071...  \n",
       "1  \\xd460941b3d1cbb9bbd1014a02712b18a918b869af046...  \n",
       "2  \\xe8d4aac12f92c75cd1589b028a7ae5f3e9c47c1259f6...  "
      ]
     },
     "execution_count": 10,
     "metadata": {},
     "output_type": "execute_result"
    }
   ],
   "source": [
    "localFile2 = DataPack.LocalFileConnector()\n",
    "result = dataPack3.saveTo(localFile2, 'test_localtable_encrypted.csv')\n",
    "assert result, result.message\n",
    "print(\"test_localtable_encrypted.csv has been saved to local file.\")\n",
    "df = pandas.read_csv('test_localtable_encrypted.csv')\n",
    "df"
   ]
  }
 ],
 "metadata": {
  "kernelspec": {
   "display_name": "datapack-dev",
   "language": "python",
   "name": "python3"
  },
  "language_info": {
   "codemirror_mode": {
    "name": "ipython",
    "version": 3
   },
   "file_extension": ".py",
   "mimetype": "text/x-python",
   "name": "python",
   "nbconvert_exporter": "python",
   "pygments_lexer": "ipython3",
   "version": "3.8.17"
  },
  "orig_nbformat": 4
 },
 "nbformat": 4,
 "nbformat_minor": 2
}
