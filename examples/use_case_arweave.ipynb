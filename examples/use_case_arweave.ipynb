{
 "cells": [
  {
   "attachments": {},
   "cell_type": "markdown",
   "metadata": {},
   "source": [
    "# Step 1: configuration"
   ]
  },
  {
   "attachments": {},
   "cell_type": "markdown",
   "metadata": {},
   "source": [
    "Input your walletPrivateKey here:"
   ]
  },
  {
   "cell_type": "code",
   "execution_count": 1,
   "metadata": {},
   "outputs": [
    {
     "name": "stdout",
     "output_type": "stream",
     "text": [
      "check env.walletPrivateKey: 2a776\n",
      "check env.mindLakeAppKey: Kyunq\n",
      "check env.MINDLAKE_GATEWAY: https://sdk.mindnetwork.xyz/node\n"
     ]
    }
   ],
   "source": [
    "# make sure you configure mindlakesdk, please check env.py in the same folder\n",
    "# please familar these configure, and you can read https://github.com/mind-network/mind-lake-sdk-python \n",
    "import env\n",
    "\n",
    "print(\"check env.walletPrivateKey:\", env.walletPrivateKey[0:5])\n",
    "print(\"check env.mindLakeAppKey:\", env.mindLakeAppKey[0:5])\n",
    "print(\"check env.MINDLAKE_GATEWAY:\", env.MINDLAKE_GATEWAY)"
   ]
  },
  {
   "attachments": {},
   "cell_type": "markdown",
   "metadata": {},
   "source": [
    "Install depedancy and source code"
   ]
  },
  {
   "cell_type": "code",
   "execution_count": 2,
   "metadata": {},
   "outputs": [],
   "source": [
    "# please \"pip install mindlakesdk\" if not installed\n",
    "import mindlakesdk\n",
    "\n",
    "# please \"pip install minddatapack\" if not installed, or git clone the source code\n",
    "from minddatapack import DataPack\n",
    "\n",
    "# please \"pip install pandas\" if not installed, it is used to display structure content in the notebook\n",
    "import pandas"
   ]
  },
  {
   "cell_type": "code",
   "execution_count": 3,
   "metadata": {},
   "outputs": [],
   "source": [
    "# check if example_data.csv file exists in the same folder, this demo will start to load this csv file.\n",
    "\n",
    "# check if arweave_wallet.json file exists in the same folder, this demo needs to use arweave wallet to sign to send tx."
   ]
  },
  {
   "attachments": {},
   "cell_type": "markdown",
   "metadata": {},
   "source": [
    "## Step 2. Local CSV -> MindLake\n",
    "- Load data from a local CSV file without the metadata file, by defining each column manually.\n",
    "- You can also load from a local backup into MindLake once you are familar, then no need to define each column. "
   ]
  },
  {
   "cell_type": "code",
   "execution_count": 4,
   "metadata": {},
   "outputs": [
    {
     "data": {
      "text/html": [
       "<div>\n",
       "<style scoped>\n",
       "    .dataframe tbody tr th:only-of-type {\n",
       "        vertical-align: middle;\n",
       "    }\n",
       "\n",
       "    .dataframe tbody tr th {\n",
       "        vertical-align: top;\n",
       "    }\n",
       "\n",
       "    .dataframe thead th {\n",
       "        text-align: right;\n",
       "    }\n",
       "</style>\n",
       "<table border=\"1\" class=\"dataframe\">\n",
       "  <thead>\n",
       "    <tr style=\"text-align: right;\">\n",
       "      <th></th>\n",
       "      <th>uid</th>\n",
       "      <th>wallet_address</th>\n",
       "      <th>register_date</th>\n",
       "    </tr>\n",
       "  </thead>\n",
       "  <tbody>\n",
       "    <tr>\n",
       "      <th>0</th>\n",
       "      <td>123</td>\n",
       "      <td>0x79Be957bf7e3003aFd0e78f04Bacbc93D3ef2fB7</td>\n",
       "      <td>2023-07-15 02:25:32.392441</td>\n",
       "    </tr>\n",
       "    <tr>\n",
       "      <th>1</th>\n",
       "      <td>124</td>\n",
       "      <td>0x79Be957bf7e3003aFd0e78f04Bacbc93D3ef2fB7</td>\n",
       "      <td>2023-07-15 02:25:32.392441</td>\n",
       "    </tr>\n",
       "    <tr>\n",
       "      <th>2</th>\n",
       "      <td>125</td>\n",
       "      <td>0x79Be957bf7e3003aFd0e78f04Bacbc93D3ef2fB7</td>\n",
       "      <td>2023-07-15 02:25:32.392441</td>\n",
       "    </tr>\n",
       "  </tbody>\n",
       "</table>\n",
       "</div>"
      ],
      "text/plain": [
       "   uid                              wallet_address               register_date\n",
       "0  123  0x79Be957bf7e3003aFd0e78f04Bacbc93D3ef2fB7  2023-07-15 02:25:32.392441\n",
       "1  124  0x79Be957bf7e3003aFd0e78f04Bacbc93D3ef2fB7  2023-07-15 02:25:32.392441\n",
       "2  125  0x79Be957bf7e3003aFd0e78f04Bacbc93D3ef2fB7  2023-07-15 02:25:32.392441"
      ]
     },
     "execution_count": 4,
     "metadata": {},
     "output_type": "execute_result"
    }
   ],
   "source": [
    "fn_local_csv = './example_data.csv'\n",
    "\n",
    "# preview local csv\n",
    "df = pandas.read_csv(fn_local_csv)\n",
    "df"
   ]
  },
  {
   "cell_type": "code",
   "execution_count": 5,
   "metadata": {},
   "outputs": [
    {
     "data": {
      "text/html": [
       "<div>\n",
       "<style scoped>\n",
       "    .dataframe tbody tr th:only-of-type {\n",
       "        vertical-align: middle;\n",
       "    }\n",
       "\n",
       "    .dataframe tbody tr th {\n",
       "        vertical-align: top;\n",
       "    }\n",
       "\n",
       "    .dataframe thead th {\n",
       "        text-align: right;\n",
       "    }\n",
       "</style>\n",
       "<table border=\"1\" class=\"dataframe\">\n",
       "  <thead>\n",
       "    <tr style=\"text-align: right;\">\n",
       "      <th></th>\n",
       "      <th>0</th>\n",
       "      <th>1</th>\n",
       "      <th>2</th>\n",
       "    </tr>\n",
       "  </thead>\n",
       "  <tbody>\n",
       "    <tr>\n",
       "      <th>0</th>\n",
       "      <td>123</td>\n",
       "      <td>0x79Be957bf7e3003aFd0e78f04Bacbc93D3ef2fB7</td>\n",
       "      <td>2023-07-15 02:25:32.392441</td>\n",
       "    </tr>\n",
       "    <tr>\n",
       "      <th>1</th>\n",
       "      <td>124</td>\n",
       "      <td>0x79Be957bf7e3003aFd0e78f04Bacbc93D3ef2fB7</td>\n",
       "      <td>2023-07-15 02:25:32.392441</td>\n",
       "    </tr>\n",
       "    <tr>\n",
       "      <th>2</th>\n",
       "      <td>125</td>\n",
       "      <td>0x79Be957bf7e3003aFd0e78f04Bacbc93D3ef2fB7</td>\n",
       "      <td>2023-07-15 02:25:32.392441</td>\n",
       "    </tr>\n",
       "  </tbody>\n",
       "</table>\n",
       "</div>"
      ],
      "text/plain": [
       "     0                                           1                          2\n",
       "0  123  0x79Be957bf7e3003aFd0e78f04Bacbc93D3ef2fB7 2023-07-15 02:25:32.392441\n",
       "1  124  0x79Be957bf7e3003aFd0e78f04Bacbc93D3ef2fB7 2023-07-15 02:25:32.392441\n",
       "2  125  0x79Be957bf7e3003aFd0e78f04Bacbc93D3ef2fB7 2023-07-15 02:25:32.392441"
      ]
     },
     "execution_count": 5,
     "metadata": {},
     "output_type": "execute_result"
    }
   ],
   "source": [
    "dataPack1 = DataPack(env.walletPrivateKey)\n",
    "result = dataPack1.loadFromCSVFileByDefineColumn(fn_local_csv, \n",
    "    [\n",
    "        DataPack.Column('uid', DataPack.DataType.int4, False),\n",
    "        DataPack.Column('wallet_address', DataPack.DataType.text, True),\n",
    "        DataPack.Column('register_date', DataPack.DataType.timestamp, True)\n",
    "    ])\n",
    "assert result, result.message\n",
    "df = pandas.DataFrame(dataPack1.data)\n",
    "df"
   ]
  },
  {
   "attachments": {},
   "cell_type": "markdown",
   "metadata": {},
   "source": [
    "- Save the data into a table in MindLake"
   ]
  },
  {
   "cell_type": "code",
   "execution_count": 6,
   "metadata": {},
   "outputs": [
    {
     "name": "stdout",
     "output_type": "stream",
     "text": [
      "dropTable result: Success\n",
      "a_new_table has been saved to MindLake.\n"
     ]
    }
   ],
   "source": [
    "mindlake = mindlakesdk.connect(env.walletPrivateKey, env.mindLakeAppKey, env.MINDLAKE_GATEWAY)\n",
    "assert mindlake, mindlake.message\n",
    "\n",
    "# drop the table if exists\n",
    "result = mindlake.datalake.dropTable('a_new_table')\n",
    "print(\"dropTable result:\", result.message)\n",
    "\n",
    "# upload from local csv into mindlake\n",
    "result = dataPack1.saveToMindLake('a_new_table', mindlake)\n",
    "assert result, result.message\n",
    "print(\"a_new_table has been saved to MindLake.\")"
   ]
  },
  {
   "attachments": {},
   "cell_type": "markdown",
   "metadata": {},
   "source": [
    "# you can also check this new downloaded table in https://scan.mindnetwork.xyz/account/myData"
   ]
  },
  {
   "attachments": {},
   "cell_type": "markdown",
   "metadata": {},
   "source": [
    "## Step 3. MindLake -> Arweave\n",
    "- Load data from a table in MindLake and save to Arweave"
   ]
  },
  {
   "cell_type": "code",
   "execution_count": 7,
   "metadata": {},
   "outputs": [
    {
     "data": {
      "text/html": [
       "<div>\n",
       "<style scoped>\n",
       "    .dataframe tbody tr th:only-of-type {\n",
       "        vertical-align: middle;\n",
       "    }\n",
       "\n",
       "    .dataframe tbody tr th {\n",
       "        vertical-align: top;\n",
       "    }\n",
       "\n",
       "    .dataframe thead th {\n",
       "        text-align: right;\n",
       "    }\n",
       "</style>\n",
       "<table border=\"1\" class=\"dataframe\">\n",
       "  <thead>\n",
       "    <tr style=\"text-align: right;\">\n",
       "      <th></th>\n",
       "      <th>0</th>\n",
       "      <th>1</th>\n",
       "      <th>2</th>\n",
       "    </tr>\n",
       "  </thead>\n",
       "  <tbody>\n",
       "    <tr>\n",
       "      <th>0</th>\n",
       "      <td>123</td>\n",
       "      <td>0x79Be957bf7e3003aFd0e78f04Bacbc93D3ef2fB7</td>\n",
       "      <td>2023-07-15 02:25:32.392441</td>\n",
       "    </tr>\n",
       "    <tr>\n",
       "      <th>1</th>\n",
       "      <td>124</td>\n",
       "      <td>0x79Be957bf7e3003aFd0e78f04Bacbc93D3ef2fB7</td>\n",
       "      <td>2023-07-15 02:25:32.392441</td>\n",
       "    </tr>\n",
       "    <tr>\n",
       "      <th>2</th>\n",
       "      <td>125</td>\n",
       "      <td>0x79Be957bf7e3003aFd0e78f04Bacbc93D3ef2fB7</td>\n",
       "      <td>2023-07-15 02:25:32.392441</td>\n",
       "    </tr>\n",
       "  </tbody>\n",
       "</table>\n",
       "</div>"
      ],
      "text/plain": [
       "     0                                           1                          2\n",
       "0  123  0x79Be957bf7e3003aFd0e78f04Bacbc93D3ef2fB7 2023-07-15 02:25:32.392441\n",
       "1  124  0x79Be957bf7e3003aFd0e78f04Bacbc93D3ef2fB7 2023-07-15 02:25:32.392441\n",
       "2  125  0x79Be957bf7e3003aFd0e78f04Bacbc93D3ef2fB7 2023-07-15 02:25:32.392441"
      ]
     },
     "execution_count": 7,
     "metadata": {},
     "output_type": "execute_result"
    }
   ],
   "source": [
    "dataPack2 = DataPack(env.walletPrivateKey)\n",
    "# make sure if you complete Step 1, so \"a_new_table\" exists in mindlake \n",
    "result = dataPack2.loadFromMindByQuery('select * from \"a_new_table\"', mindlake)\n",
    "assert result, result.message\n",
    "df = pandas.DataFrame(dataPack2.data)\n",
    "df"
   ]
  },
  {
   "attachments": {},
   "cell_type": "markdown",
   "metadata": {},
   "source": [
    "- Save the data into Arweave"
   ]
  },
  {
   "cell_type": "code",
   "execution_count": 8,
   "metadata": {},
   "outputs": [
    {
     "name": "stdout",
     "output_type": "stream",
     "text": [
      "test_table_encrypted.csv has been saved to Arweave.\n",
      "The Arweave ID is: NNgcwmyBsB0F6sJGbEBcNxor7-i_5PF5LxcC2yOmFkU\n",
      "You can check on Arweave: https://viewblock.io/arweave/tx/NNgcwmyBsB0F6sJGbEBcNxor7-i_5PF5LxcC2yOmFkU\n",
      "And the content on Arweave: https://arseed.web3infra.dev/NNgcwmyBsB0F6sJGbEBcNxor7-i_5PF5LxcC2yOmFkU\n",
      "The content is:\n",
      "uid,wallet_address,register_date\n",
      "123,\\xc5c23a94d68b6159e0db4abfc83caa14012fdd2349e22a50b7800fa8a9da7c0dadcffc5a91ecc1b264922678a1aff26ce31a33b59ee0ca5236e5ddbae7aa15471b,\\x62caa32d48c0d9e1c9411010de2eee60000ddbae901808bddbac1c54abb468d7ba\n",
      "124,\\x09b0a3fc52a0c0932e61b1c8c56b0bf7ee2af9e88e32b0663af2e03f50cbf65aee203a3df8ea5b15911cc629653ee70239e0c7f64fb4ebc7fc34f239ecc13736e5,\\xaa53d8fad9156a1f54fffd7c329b871484962b59777bddbe970d5bfee00b344ed3\n",
      "125,\\x461ec6dc1cdf0edfaa1f44bfeeebd2bea56600b1d0f406dc5d5b781894a9511ef2108d1cf7cbb1117ca6027715beb60076a03920308855208f0d235c70d751cf74,\\xa3bc165c1a5e6938b3e0596b87822ddbcc4c671292313c08963a05bfd1f6579147\n",
      "\n"
     ]
    }
   ],
   "source": [
    "# make sure you have arweave_wallet.json \n",
    "result = dataPack2.saveToArweave('test_table_encrypted.csv', 'AR', './arweave_wallet.json')\n",
    "assert result, result.message\n",
    "print(\"test_table_encrypted.csv has been saved to Arweave.\")\n",
    "itemID = result.data\n",
    "print(\"The Arweave ID is:\", itemID)\n",
    "arweave_explore_url = \"https://viewblock.io/arweave/tx/%s\"%(itemID)\n",
    "arweave_file_url = \"https://arseed.web3infra.dev/%s\"%(itemID)\n",
    "print(\"You can check on Arweave:\", arweave_explore_url)\n",
    "print(\"And the content on Arweave:\", arweave_file_url)\n",
    "import requests\n",
    "content = requests.get(arweave_file_url).text\n",
    "print(\"The content is:\")\n",
    "print(content)"
   ]
  },
  {
   "attachments": {},
   "cell_type": "markdown",
   "metadata": {},
   "source": [
    "## Step 4. Arweave -> Local File\n",
    "- Load data from Arweave and save to local file"
   ]
  },
  {
   "cell_type": "code",
   "execution_count": 9,
   "metadata": {},
   "outputs": [
    {
     "name": "stdout",
     "output_type": "stream",
     "text": [
      "You can see file on Arweave are encrypted, but datapack can decrypted it locally\n"
     ]
    },
    {
     "data": {
      "text/html": [
       "<div>\n",
       "<style scoped>\n",
       "    .dataframe tbody tr th:only-of-type {\n",
       "        vertical-align: middle;\n",
       "    }\n",
       "\n",
       "    .dataframe tbody tr th {\n",
       "        vertical-align: top;\n",
       "    }\n",
       "\n",
       "    .dataframe thead th {\n",
       "        text-align: right;\n",
       "    }\n",
       "</style>\n",
       "<table border=\"1\" class=\"dataframe\">\n",
       "  <thead>\n",
       "    <tr style=\"text-align: right;\">\n",
       "      <th></th>\n",
       "      <th>0</th>\n",
       "      <th>1</th>\n",
       "      <th>2</th>\n",
       "    </tr>\n",
       "  </thead>\n",
       "  <tbody>\n",
       "    <tr>\n",
       "      <th>0</th>\n",
       "      <td>123</td>\n",
       "      <td>0x79Be957bf7e3003aFd0e78f04Bacbc93D3ef2fB7</td>\n",
       "      <td>2023-07-15 02:25:32.392441</td>\n",
       "    </tr>\n",
       "    <tr>\n",
       "      <th>1</th>\n",
       "      <td>124</td>\n",
       "      <td>0x79Be957bf7e3003aFd0e78f04Bacbc93D3ef2fB7</td>\n",
       "      <td>2023-07-15 02:25:32.392441</td>\n",
       "    </tr>\n",
       "    <tr>\n",
       "      <th>2</th>\n",
       "      <td>125</td>\n",
       "      <td>0x79Be957bf7e3003aFd0e78f04Bacbc93D3ef2fB7</td>\n",
       "      <td>2023-07-15 02:25:32.392441</td>\n",
       "    </tr>\n",
       "  </tbody>\n",
       "</table>\n",
       "</div>"
      ],
      "text/plain": [
       "     0                                           1                          2\n",
       "0  123  0x79Be957bf7e3003aFd0e78f04Bacbc93D3ef2fB7 2023-07-15 02:25:32.392441\n",
       "1  124  0x79Be957bf7e3003aFd0e78f04Bacbc93D3ef2fB7 2023-07-15 02:25:32.392441\n",
       "2  125  0x79Be957bf7e3003aFd0e78f04Bacbc93D3ef2fB7 2023-07-15 02:25:32.392441"
      ]
     },
     "execution_count": 9,
     "metadata": {},
     "output_type": "execute_result"
    }
   ],
   "source": [
    "dataPack3 = DataPack(env.walletPrivateKey)\n",
    "result = dataPack3.loadFromArweave(itemID)\n",
    "assert result, result.message\n",
    "print(\"You can see file on Arweave are encrypted, but datapack can decrypted it locally\")\n",
    "df = pandas.DataFrame(dataPack3.data)\n",
    "df"
   ]
  },
  {
   "attachments": {},
   "cell_type": "markdown",
   "metadata": {},
   "source": [
    "- Save the data into a local file with encryption"
   ]
  },
  {
   "cell_type": "code",
   "execution_count": 10,
   "metadata": {},
   "outputs": [
    {
     "name": "stdout",
     "output_type": "stream",
     "text": [
      "test_localtable_encrypted.csv has been saved to local file.\n"
     ]
    },
    {
     "data": {
      "text/html": [
       "<div>\n",
       "<style scoped>\n",
       "    .dataframe tbody tr th:only-of-type {\n",
       "        vertical-align: middle;\n",
       "    }\n",
       "\n",
       "    .dataframe tbody tr th {\n",
       "        vertical-align: top;\n",
       "    }\n",
       "\n",
       "    .dataframe thead th {\n",
       "        text-align: right;\n",
       "    }\n",
       "</style>\n",
       "<table border=\"1\" class=\"dataframe\">\n",
       "  <thead>\n",
       "    <tr style=\"text-align: right;\">\n",
       "      <th></th>\n",
       "      <th>uid</th>\n",
       "      <th>wallet_address</th>\n",
       "      <th>register_date</th>\n",
       "    </tr>\n",
       "  </thead>\n",
       "  <tbody>\n",
       "    <tr>\n",
       "      <th>0</th>\n",
       "      <td>123</td>\n",
       "      <td>\\xbccbf2b5f37fa48a28cb629cdef5ce3a55485aaa1135...</td>\n",
       "      <td>\\x92c68f85c32aaab96f93775287b998a263dd9ae413d9...</td>\n",
       "    </tr>\n",
       "    <tr>\n",
       "      <th>1</th>\n",
       "      <td>124</td>\n",
       "      <td>\\x1772d0b504ceff425734fb9c0453466b2b0475de66d6...</td>\n",
       "      <td>\\x591346e00096feb0823f3a5ce45d39fc2c0177a370ef...</td>\n",
       "    </tr>\n",
       "    <tr>\n",
       "      <th>2</th>\n",
       "      <td>125</td>\n",
       "      <td>\\xc1d0276b43e14c9e912d0def9e7fbe4b2843650bc449...</td>\n",
       "      <td>\\xe4090c2c346ab00d0923e8897a7f4b61a076112e7a3e...</td>\n",
       "    </tr>\n",
       "  </tbody>\n",
       "</table>\n",
       "</div>"
      ],
      "text/plain": [
       "   uid                                     wallet_address  \\\n",
       "0  123  \\xbccbf2b5f37fa48a28cb629cdef5ce3a55485aaa1135...   \n",
       "1  124  \\x1772d0b504ceff425734fb9c0453466b2b0475de66d6...   \n",
       "2  125  \\xc1d0276b43e14c9e912d0def9e7fbe4b2843650bc449...   \n",
       "\n",
       "                                       register_date  \n",
       "0  \\x92c68f85c32aaab96f93775287b998a263dd9ae413d9...  \n",
       "1  \\x591346e00096feb0823f3a5ce45d39fc2c0177a370ef...  \n",
       "2  \\xe4090c2c346ab00d0923e8897a7f4b61a076112e7a3e...  "
      ]
     },
     "execution_count": 10,
     "metadata": {},
     "output_type": "execute_result"
    }
   ],
   "source": [
    "result = dataPack3.saveToLocalFile('test_localtable_encrypted.csv', False)\n",
    "assert result, result.message\n",
    "print(\"test_localtable_encrypted.csv has been saved to local file.\")\n",
    "df = pandas.read_csv('test_localtable_encrypted.csv')\n",
    "df"
   ]
  }
 ],
 "metadata": {
  "kernelspec": {
   "display_name": "datapack-dev",
   "language": "python",
   "name": "python3"
  },
  "language_info": {
   "codemirror_mode": {
    "name": "ipython",
    "version": 3
   },
   "file_extension": ".py",
   "mimetype": "text/x-python",
   "name": "python",
   "nbconvert_exporter": "python",
   "pygments_lexer": "ipython3",
   "version": "3.8.17"
  },
  "orig_nbformat": 4
 },
 "nbformat": 4,
 "nbformat_minor": 2
}
